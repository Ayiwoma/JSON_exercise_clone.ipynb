{
 "cells": [
  {
   "cell_type": "markdown",
   "metadata": {},
   "source": [
    "# JSON exercise\n",
    "\n",
    "Download the data from [**here**](https://drive.google.com/file/d/1DGaX5AVfYhmWeb15lI-MzUbSKTYSz9fQ/view?usp=sharing) and answer following questions:\n",
    "1. Find the 10 countries with most projects\n",


    "2. What are top 10 sectors with projects?\n",

Top 10 sectors with projects:
sector
[{'Name': 'Other social services'}]                                                                          13
[{'Name': 'Central government administration'}]                                                              12
[{'Name': 'Health'}, {'Name': 'Public administration- Health'}]                                              11
[{'Name': 'General public administration sector'}]                                                            9
[{'Name': 'Rural and Inter-Urban Roads and Highways'}, {'Name': 'Public administration- Transportation'}]     7
[{'Name': 'Rural and Inter-Urban Roads and Highways'}]                                                        7
[{'Name': 'Other Mining and Extractive Industries'}]                                                          7
[{'Name': 'Other social services'}, {'Name': 'Public administration- Other social services'}]                 6
[{'Name': 'Other Renewable Energy'}]                                                                          6
[{'Name': 'Health'}]                                                                                          5
Name: count, dtype: int64

    "3. Find the top 10 major project themes (using column 'mjtheme_namecode')\n",

Top 10 major project themes:
name
Environment and natural resources management    223
Rural development                               202
Human development                               197
Public sector governance                        184
Social protection and risk management           158
Financial and private sector development        130
                                                122
Social dev/gender/inclusion                     119
Trade and integration                            72
Urban development                                47
Name: count, dtype: int64

    "4. In 3. above you will notice that some entries have only the code and the name is missing. Create a dataframe with the missing names filled in."

     code                                          name
0       8                             Human development
1      11  Environment and natural resources management
2       1                           Economic management
3       6         Social protection and risk management
4       5                         Trade and integration
...   ...                                           ...
1494   10                             Rural development
1495    9                             Urban development
1496    8                             Human development
1497    5                         Trade and integration
1498    4      Financial and private sector development

[1499 rows x 2 columns]
   ]
  },
  {
   "cell_type": "code",
   "execution_count": null,
   "metadata": {},
   "outputs": [],
   "source": []
  },
  {
   "cell_type": "code",
   "execution_count": null,
   "metadata": {},
   "outputs": [],
   "source": []
  }
 ],
 "metadata": {
  "anaconda-cloud": {},
  "kernelspec": {
   "display_name": "Python 3",
   "language": "python",
   "name": "python3"
  },
  "language_info": {
   "codemirror_mode": {
    "name": "ipython",
    "version": 3
   },
   "file_extension": ".py",
   "mimetype": "text/x-python",
   "name": "python",
   "nbconvert_exporter": "python",
   "pygments_lexer": "ipython3",
   "version": "3.7.6"
  }
 },
 "nbformat": 4,
 "nbformat_minor": 4
}
